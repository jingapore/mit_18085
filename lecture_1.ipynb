{
 "cells": [
  {
   "cell_type": "code",
   "execution_count": 60,
   "metadata": {},
   "outputs": [
    {
     "data": {
      "text/html": [
       "<h1>Toeplitz</h1>"
      ],
      "text/plain": [
       "<IPython.core.display.HTML object>"
      ]
     },
     "metadata": {},
     "output_type": "display_data"
    },
    {
     "data": {
      "text/html": [
       "<p>100x100 matrix with '-1, 2, -1' recurring from roll 2 to 98 (starting with roll 1).</p>"
      ],
      "text/plain": [
       "<IPython.core.display.HTML object>"
      ]
     },
     "metadata": {},
     "output_type": "display_data"
    },
    {
     "data": {
      "text/plain": [
       "array([[ 2., -1.,  0., ...,  0.,  0.,  0.],\n",
       "       [-1.,  2., -1., ...,  0.,  0.,  0.],\n",
       "       [ 0., -1.,  2., ...,  0.,  0.,  0.],\n",
       "       ...,\n",
       "       [ 0.,  0.,  0., ...,  2., -1.,  0.],\n",
       "       [ 0.,  0.,  0., ..., -1.,  2., -1.],\n",
       "       [ 0.,  0.,  0., ...,  0., -1.,  2.]])"
      ]
     },
     "metadata": {},
     "output_type": "display_data"
    },
    {
     "data": {
      "text/plain": [
       "(100, 100)"
      ]
     },
     "metadata": {},
     "output_type": "display_data"
    },
    {
     "data": {
      "text/html": [
       "<p>How will toeplitz work if we change first_row to only 50, i.e. 100-by-50 matrix?</p>"
      ],
      "text/plain": [
       "<IPython.core.display.HTML object>"
      ]
     },
     "metadata": {},
     "output_type": "display_data"
    },
    {
     "data": {
      "text/plain": [
       "array([[ 2., -1.,  0., ...,  0.,  0.,  0.],\n",
       "       [-1.,  2., -1., ...,  0.,  0.,  0.],\n",
       "       [ 0., -1.,  2., ...,  0.,  0.,  0.],\n",
       "       ...,\n",
       "       [ 0.,  0.,  0., ...,  0.,  0.,  0.],\n",
       "       [ 0.,  0.,  0., ...,  0.,  0.,  0.],\n",
       "       [ 0.,  0.,  0., ...,  0.,  0.,  0.]])"
      ]
     },
     "metadata": {},
     "output_type": "display_data"
    },
    {
     "data": {
      "text/plain": [
       "(100, 50)"
      ]
     },
     "metadata": {},
     "output_type": "display_data"
    }
   ],
   "source": [
    "import scipy.linalg\n",
    "import numpy as np\n",
    "from IPython.core.display import HTML, Math\n",
    "\n",
    "display(HTML('<h1>Toeplitz</h1>'))\n",
    "\n",
    "display(HTML('<p>100x100 matrix with \\'-1, 2, -1\\' recurring from roll 2 to 98 (starting with roll 1).</p>'))\n",
    "first_col = np.append([2,-1], np.zeros(98))\n",
    "first_row = np.append([2, -1], np.zeros(98))\n",
    "K = scipy.linalg.toeplitz(first_col, first_row)\n",
    "display(K, K.shape)\n",
    "\n",
    "display(HTML('<p>How will toeplitz work if we change first_row to only 50, i.e. 100-by-50 matrix?</p>'))\n",
    "first_row = np.append([2, -1], np.zeros(48))\n",
    "K = scipy.linalg.toeplitz(first_col, first_row)\n",
    "display(K, K.shape)"
   ]
  },
  {
   "cell_type": "code",
   "execution_count": 69,
   "metadata": {},
   "outputs": [
    {
     "data": {
      "text/html": [
       "<h1>How do you know if a matrix is invertible?</h1>"
      ],
      "text/plain": [
       "<IPython.core.display.HTML object>"
      ]
     },
     "metadata": {},
     "output_type": "display_data"
    },
    {
     "data": {
      "text/latex": [
       "$\\displaystyle \\text{We ask whether } K_n \\text{ is invertible for every } n. \\\\ \\text{We do not look at the determinant, as } n \\text{ could be large. Even though the determinant is a test.}$"
      ],
      "text/plain": [
       "<IPython.core.display.Math object>"
      ]
     },
     "metadata": {},
     "output_type": "display_data"
    },
    {
     "data": {
      "text/html": [
       "<h2>Transpose matrix to XXX</h2>"
      ],
      "text/plain": [
       "<IPython.core.display.HTML object>"
      ]
     },
     "metadata": {},
     "output_type": "display_data"
    },
    {
     "data": {
      "text/html": [
       "<h2>Determinant from diagonal</h2>"
      ],
      "text/plain": [
       "<IPython.core.display.HTML object>"
      ]
     },
     "metadata": {},
     "output_type": "display_data"
    },
    {
     "data": {
      "text/latex": [
       "$\\displaystyle \n",
       "\\text{The determinant shows how the unit volume changes, with } K \\text{.}\\\\\n",
       "\\text{The } n^{th} \\text{ column of } K \\text{ will take basis} n \\text{ of the vector, and transpose it only up to } n \\text{ dimensions.}\\\\\n",
       "\\text{Therefore, the unit volume will only be scaled by the diagnoal values of the matrix}$"
      ],
      "text/plain": [
       "<IPython.core.display.Math object>"
      ]
     },
     "metadata": {},
     "output_type": "display_data"
    },
    {
     "data": {
      "text/html": [
       "<iframe width=\"560\" height=\"315\" src=\"https://www.youtube.com/embed/Ip3X9LOh2dk\" frameborder=\"0\" allow=\"accelerometer; autoplay; encrypted-media; gyroscope; picture-in-picture\" allowfullscreen></iframe>"
      ],
      "text/plain": [
       "<IPython.core.display.HTML object>"
      ]
     },
     "metadata": {},
     "output_type": "display_data"
    }
   ],
   "source": [
    "display(HTML('<h1>How do you know if a matrix is invertible?</h1>'))\n",
    "\n",
    "display(Math(r'\\text{We ask whether } K_n \\text{ is invertible for every } n. \\\\ \\text{We do not look at the determinant, as } n \\text{ could be large. Even though the determinant is a test.}'))\n",
    "\n",
    "display(HTML('<h2>Transpose matrix to XXX</h2>'))\n",
    "\n",
    "display(HTML('<h2>Determinant from diagonal</h2>'))\n",
    "display(Math(r'''\n",
    "\\text{The determinant shows how the unit volume changes, with } K \\text{.}\\\\\n",
    "\\text{The } n^{th} \\text{ column of } K \\text{ will take basis} n \\text{ of the vector, and transpose it only up to } n \\text{ dimensions.}\\\\\n",
    "\\text{Therefore, the unit volume will only be scaled by the diagnoal values of the matrix}'''))\n",
    "display(HTML('<iframe width=\"560\" height=\"315\" src=\"https://www.youtube.com/embed/Ip3X9LOh2dk\" frameborder=\"0\" allow=\"accelerometer; autoplay; encrypted-media; gyroscope; picture-in-picture\" allowfullscreen></iframe>'))\n",
    "\n",
    "#C is not invertible. For C^-1, there exists many solutions to C^-1 u = 0.\n",
    "display(HTML('<iframe width=\"560\" height=\"315\" src=\"https://www.youtube.com/embed/CgfkEUOFAj0?start=2099\" frameborder=\"0\" allow=\"accelerometer; autoplay; encrypted-media; gyroscope; picture-in-picture\" allowfullscreen></iframe>'))"
   ]
  }
 ],
 "metadata": {
  "kernelspec": {
   "display_name": "Python 3",
   "language": "python",
   "name": "python3"
  },
  "language_info": {
   "codemirror_mode": {
    "name": "ipython",
    "version": 3
   },
   "file_extension": ".py",
   "mimetype": "text/x-python",
   "name": "python",
   "nbconvert_exporter": "python",
   "pygments_lexer": "ipython3",
   "version": "3.6.8"
  }
 },
 "nbformat": 4,
 "nbformat_minor": 2
}
